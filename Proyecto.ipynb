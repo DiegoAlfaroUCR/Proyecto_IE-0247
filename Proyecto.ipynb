{
 "cells": [
  {
   "cell_type": "markdown",
   "metadata": {},
   "source": [
    "# Proyecto 1 - Señales y Sistemas I\n",
    "\n",
    "### Estudiante: Diego Alfaro Segura (C20259)\n"
   ]
  },
  {
   "cell_type": "markdown",
   "metadata": {},
   "source": [
    "# Configuración del Programa\n",
    "Primero, se importan todas las librerías necesarias para el código."
   ]
  },
  {
   "cell_type": "code",
   "execution_count": null,
   "metadata": {},
   "outputs": [],
   "source": [
    "import numpy as np\n",
    "import random as rd\n",
    "import wave\n",
    "import sys\n",
    "import matplotlib.pyplot as plt\n",
    "from matplotlib.pyplot import figure\n",
    "from scipy.signal import butter, lfilter, filtfilt\n",
    "from statistics import stdev\n",
    "sys.path.insert(1, r'./../functions')\n",
    "\n",
    "# Tamaño de letra para títulos.\n",
    "plt.rcParams['axes.labelsize'] = 16\n",
    "plt.rcParams['axes.titlesize'] = 18\n",
    "plt.rcParams['font.size'] = 14\n",
    "plt.rcParams['lines.linewidth'] = 1.4"
   ]
  },
  {
   "cell_type": "markdown",
   "metadata": {},
   "source": [
    "# Función de información de señales\n",
    "\n",
    "Se crea una función la cual permite extraer parámetros y datos de las señales. [1]"
   ]
  },
  {
   "cell_type": "code",
   "execution_count": null,
   "metadata": {},
   "outputs": [],
   "source": [
    "def ecg(variable):\n",
    "    record = wave.open(variable, 'r') # Se cargan los datos.\n",
    "\n",
    "    # Se obtienen parámetros de la onda.\n",
    "    numChannels = record.getnchannels() \n",
    "    numFrames = record.getnframes()\n",
    "    sampleRate = record.getframerate()\n",
    "    sampleWidth = record.getsampwidth()\n",
    "    \n",
    "    # Se obtienen datos de la onda.\n",
    "    dstr = record.readframes(numFrames * numChannels)\n",
    "    waveData = np.frombuffer(dstr, np.int16)\n",
    "\n",
    "    # Se obtiene el intervalo de tiempo.\n",
    "    timeECG = np.linspace(0, len(waveData)/sampleRate, num=len(waveData))\n",
    "\n",
    "    return timeECG, waveData"
   ]
  },
  {
   "cell_type": "markdown",
   "metadata": {},
   "source": [
    "# Graficación de las ondas.\n",
    "\n",
    "Se extraen los datos de cada onda seleccionada, y se grafican dichos datos en términos del tiempo, para cada señal dada."
   ]
  },
  {
   "cell_type": "code",
   "execution_count": null,
   "metadata": {},
   "outputs": [],
   "source": [
    "ondas = [\"a00\" + str(x).zfill(2) for x in range(1,16)] # Se establecen los nombres de los archivos.\n",
    "\n",
    "for i in range(0, len(ondas)):\n",
    "    timeECG, waveData = ecg(ondas[i]+'.wav')\n",
    "    \n",
    "    # Se grafican los datos \"waveData\", en función del tiempo \"timeECG\".\n",
    "    plt.figure(figsize=(18,6))\n",
    "    plt.xlabel(r'Tiempo (s)')\n",
    "    plt.ylabel(r'Tensión ($\\mu$V)')\n",
    "    plt.plot(timeECG,waveData, 'b')\n",
    "    plt.title(ondas[i]+'.wav')\n",
    "    plt.xticks(np.arange(0,max(timeECG),2)) # Se agregan más marcas en el eje de tiempo.\n",
    "    plt.show()"
   ]
  },
  {
   "cell_type": "markdown",
   "metadata": {},
   "source": [
    "Se nota como las variaciones en la magnitud de la tensión en las señales asemeja la forma de ciclos de latidos. En algunos casos se muestra ruido o instancias de pulsos erroneos, pero en su gran mayoría se puede identificar la forma de un ECG en las gráficas obtenidas. Con esto se concluye que las funciones usadas para extraer los datos de las señales y visualizarlas son correctas."
   ]
  },
  {
   "cell_type": "markdown",
   "metadata": {},
   "source": [
    "# Visualización de latidos.\n",
    "\n",
    "Se escoge una señal, y se grafica un solo latido y tres latidos por aparte."
   ]
  },
  {
   "cell_type": "code",
   "execution_count": null,
   "metadata": {},
   "outputs": [],
   "source": [
    "# Se obtienen los datos de una misma onda.\n",
    "timeECG, waveData = ecg(\"a0001.wav\")\n",
    "\n",
    "# Se grafica un solo latido.\n",
    "plt.figure(figsize=(18,6))\n",
    "plt.xlabel(r'Tiempo (s)')\n",
    "plt.ylabel(r'Tensión ($\\mu$V)')\n",
    "plt.plot(timeECG,waveData, 'b')\n",
    "plt.xlim(.7,0.85)\n",
    "plt.title(\"Un solo latido de a0001\")\n",
    "plt.show()\n",
    "\n",
    "# Se grafican tres latidos.\n",
    "plt.figure(figsize=(18,6))\n",
    "plt.xlabel(r'Tiempo (s)')\n",
    "plt.ylabel(r'Tensión ($\\mu$V)')\n",
    "plt.plot(timeECG,waveData, 'b')\n",
    "plt.xlim(.40,2.9)\n",
    "plt.xticks(np.arange(0.4,3,step=0.1))\n",
    "plt.title(\"Tres latidos de a0001\")\n",
    "plt.show()"
   ]
  },
  {
   "cell_type": "markdown",
   "metadata": {},
   "source": [
    "Se nota con este proceso que es posible recortar el dominio de las gráficas de las señales, lo cual permite enfocarse en los datos de un solo ciclo o incluso 3 ciclos. Esta operación se empleará más adelante para recortar la señal entre intervalos deseados."
   ]
  },
  {
   "cell_type": "markdown",
   "metadata": {},
   "source": [
    "# Parte 2\n",
    "\n",
    "Se emplean funciones para determinar la frecuencia cardiaca de los latidos presentes en las señales. Para lograr esto, las señales deben tener:\n",
    "#####     \n",
    "- Una base estable\n",
    "#####     \n",
    "- Valores máximos (R) mayores a valores de rebote (T)\n",
    "#####     \n",
    "- Picos de valores máximos (R) de misma amplitud cada ciclo\n",
    "\n",
    "##### \n",
    "Por esto, es conveniente recortar la señal a intervalos clave:"
   ]
  },
  {
   "cell_type": "code",
   "execution_count": null,
   "metadata": {},
   "outputs": [],
   "source": [
    "# Se establecen los intervalos de tiempo más limpios/claros de las señales [n1:n2].\n",
    "\n",
    "n1_s = [30.1, 1.6, 2, 10.9, 10.2, 8, 13, 3.1, 19, 24.8, 21.9, 10.3, 25.7, 18.4, 24]\n",
    "# Se hace una conversión necesaria para indexar el segundo n1_s buscado. \n",
    "# Es una aproximación basada en la frecuencia de toma de datos encontrada dentro de timeECG.\n",
    "n1 = [int(i*2000) for i in n1_s]\n",
    "\n",
    "n2_s = [34, 3.7, 10.3, 14.9, 14, 14, 16, 5.2, 22, 27.9, 25, 13.3, 30, 24, 25.4]\n",
    "n2 = [int(i*2000) for i in n2_s]\n",
    "\n",
    "# Aquí se precisó experimentalmente el threshold_ratio óptimo para cada señal.\n",
    "# Esto permite que solo se registren los puntos máximos (R) de la señal recortada.\n",
    "t = [0.7, 0.8, 0.77, 0.87, 0.91, 0.83, 0.77, 0.77, 0.7, 0.87, 0.97, 0.7, 0.85, 0.87, 0.83]"
   ]
  },
  {
   "cell_type": "markdown",
   "metadata": {},
   "source": [
    "# Detección de picos (R)\n",
    "\n",
    "Se establece una función que detecte los picos de la señal dada. Se tomó del repositorio [1] y define un \"threshhold\", usando el parámetro t establecido arriba, con el cual determina cuales puntos de la señal pasan el threshold y por ende son máximos. La función luego retorna los índices de los puntos máximos encontrados. Se denota que dentro de la función se explica las dinámicas del \"threshold ratio\", esta explicación se usó para determinar los \"threshold ratio\"s apropiados para cada señal experimentalmente. Además, se realizó una corrección en la definición del intervalo para evitar errores al correr el código."
   ]
  },
  {
   "cell_type": "code",
   "execution_count": null,
   "metadata": {},
   "outputs": [],
   "source": [
    "def detecta_maximos_locales(timeECG, waveData, threshold_ratio=0.7):\n",
    "    # If not all the R peaks are detected, lower the threshold_ratio\n",
    "    # If components that are not R peaks (like T waves) are detected, up the threshold_ratio\n",
    "\n",
    "    if len(timeECG) != len(waveData): #Raises an error if two arrays have different lengths\n",
    "        raise Exception(\"The two arrays have different lengths.\")\n",
    "    \n",
    "    interval = int(max(waveData)) - int(min(waveData))  # Se convirtieron los valores a enteros para resolver errores.\n",
    "    threshold = threshold_ratio*interval + min(waveData)\n",
    "    maxima = []\n",
    "    maxima_indices = []\n",
    "    mxs_indices = []\n",
    "    banner = False\n",
    "    \n",
    "    for i in range(0, len(waveData)):\n",
    "            \n",
    "        if waveData[i] >= threshold:#If a threshold value is surpassed,\n",
    "            # the indices and values are saved \n",
    "            banner = True\n",
    "            maxima_indices.append(i)\n",
    "            maxima.append(waveData[i])\n",
    "            \n",
    "        elif banner == True and waveData[i] < threshold: #If the threshold value is crossed\n",
    "            # the index of the maximum value in the original array is saved\n",
    "            index_local_max = maxima.index(max(maxima))\n",
    "            mxs_indices.append(maxima_indices[index_local_max])\n",
    "            maxima = []\n",
    "            maxima_indices = []\n",
    "            banner = False     \n",
    "\n",
    "    return mxs_indices"
   ]
  },
  {
   "cell_type": "markdown",
   "metadata": {},
   "source": [
    "# Picos de gráficas recortadas\n",
    "##### \n",
    "Se grafican los datos \"waveData\", en función del tiempo \"timeECG\" para cada señal dada con marcas para cada punto máximo (R) encontrado usando la función de detección de picos (R).\n",
    "##### \n",
    "Se nota que algunas de las gráficas no son tan limpias/exactas como otras. Esto es pues la señal dada no presenta un comportamiento favorable, ya sea que no cumple las condiciones ya mencionadas al inicio de la sección, o que poseen mucho ruido."
   ]
  },
  {
   "cell_type": "code",
   "execution_count": null,
   "metadata": {},
   "outputs": [],
   "source": [
    "for i in range(0, len(ondas)):\n",
    "    timeECG, waveData = ecg(ondas[i]+'.wav')\n",
    "    timeECG, waveData = timeECG[n1[i]:n2[i]], waveData[n1[i]:n2[i]]\n",
    "    plt.figure(figsize=(18,6))\n",
    "    plt.xlabel(r'Tiempo (s)')\n",
    "    plt.ylabel(r'Tensión ($\\mu$V)')\n",
    "    plt.plot(timeECG,waveData, 'b')\n",
    "    plt.xlim(min(timeECG),max(timeECG))\n",
    "    plt.title(ondas[i]+'.wav')\n",
    "    plt.xticks(np.arange(min(timeECG),max(timeECG),1)) # Se agregan más marcas en el eje de tiempo.\n",
    "    mxs_indices = detecta_maximos_locales(timeECG, waveData, threshold_ratio= t[i])\n",
    "    plt.scatter(timeECG[mxs_indices], waveData[mxs_indices], color='r')\n",
    "    plt.show()"
   ]
  },
  {
   "cell_type": "markdown",
   "metadata": {},
   "source": [
    "# Ritmo cardiaco\n",
    "\n",
    "Una vez se tienen los picos (R) de la señal, se puede obtener la frecuencia cardiaca y graficar un promedio de esta. \n",
    "####\n",
    "Esta sección de código obtiene los datos de la señal, los recorta en el intervalo según los parámetros dados al incio, y con ellos calcula su frecuencia cardiaca promedio y puntos de frecuencia cardiaca. Finalmente, grafica estas características en términos de número de ciclo del electrocardiograma, empleando barras de error para mostrar el posible error del cálculo.  "
   ]
  },
  {
   "cell_type": "code",
   "execution_count": null,
   "metadata": {},
   "outputs": [],
   "source": [
    "for i in range(0, len(ondas)):\n",
    "    timeECG, waveData = ecg(ondas[i]+'.wav')\n",
    "    timeECG, waveData = timeECG[n1[i]:n2[i]], waveData[n1[i]:n2[i]]\n",
    "    mxs_indices = detecta_maximos_locales(timeECG, waveData, threshold_ratio= t[i])\n",
    "    mean_bpm = 60*(len(mxs_indices)/(timeECG[-1]-timeECG[0]))\n",
    "\n",
    "    heart_rate = [(60/(timeECG[mxs_indices[i+1]]-timeECG[mxs_indices[i]])) \\\n",
    "              for i in range(0, len(mxs_indices)-1)]\n",
    "    time = timeECG[mxs_indices]\n",
    "\n",
    "    mean_vec = [mean_bpm for i in range(0, len(time)-1)]\n",
    "    std_vec_plus = [mean_bpm+stdev(heart_rate) for i in range(0, len(time)-1)]\n",
    "    std_vec_minus = [mean_bpm-stdev(heart_rate) for i in range(0, len(time)-1)]\n",
    "\n",
    "    label_promedio = \"Frecuencia cardiaca media: \" + str(round(mean_bpm))\n",
    "    plt.fill_between(time[1:], std_vec_minus, std_vec_plus, facecolor=\"red\",\n",
    "                 label = \"Desviación estandar\", color='red', alpha=0.4)\n",
    "    plt.plot(time[1:], mean_vec, c=\"r\", label = label_promedio)\n",
    "    plt.plot(time[1:], heart_rate, markersize=5, marker = \"o\", label=\"Frecuencia cardiaca\")\n",
    "\n",
    "\n",
    "    l = (max(heart_rate)-min(heart_rate))*1.5\n",
    "    plt.ylim((min(heart_rate)- l, max(heart_rate) + l))\n",
    "    plt.title(\"Frecuencia cardiaca de \" + ondas[i] + \".wav\")\n",
    "    plt.xlabel(r'Numero de ciclo ECG')\n",
    "    plt.ylabel(r'Tiempo ($s$)')\n",
    "    plt.legend()\n",
    "    plt.show()"
   ]
  },
  {
   "cell_type": "markdown",
   "metadata": {},
   "source": [
    "# Análisis de resultados\n",
    "\n",
    "Si se estudian las gráficas obtenidas de la frecuencia cardiaca de las señales, se visualiza que las señales que presentaron mejor tendencias (datos realistas con rectas dentro de los margenes de error aceptables) fueron aquellas que más fuertemente lograron cumplir los requisitos mencionados. Esto se visualiza al comparar las gráficas de la frecuencia cardiaca de una señal con su respectiva gráfica de puntos máximos; si estos se encuentran a una misma altura (amplitud), espaciados de manera consistente y solo se marcan los puntos de latido (R), su gráfica de frecuencia se adhiere al promedio calculado y presenta resultados dentro de lo esperado (Una frecuencia entre 60 y 100 latidos por minuto). En algunas de las señales recortadas, como lo son las señales a0002, a0004, a0006 y a0010, no muestran formas que permitan identificar que parte de la señal representa un latido (R), un rebote (T) o incluso ruido de forma clara. Por esto, estas señales no presentaron gráficos consistentes a la hora de determinar su frecuencia cardiaca, ya que no se logró aislar al menos 3 latidos claros. \n",
    "####\n",
    "Estas formas no regulares de las señales evitan que se genere un anáisis correcto a través del programa, lo cual es una posible fuente de dificultad al emplear herramientas de análisis de señales para procesos como electrocardiogramas. Por otra parte, cuando se logró aislar al menos 3 latidos claros de la señal, el código logró determinar la frecuencia cardiaca de manera eficiente y acertada (se pueden verificar los resultados tomando cuenta de la cantidad de latidos que se dan en un intervalo de tiempo en la señal dada y comparando dicha cantidad con la frecuencia estimada). Es por esto que se puede concluir que un análisis de las señales de electrocardiogramas es posible, útil e incluso eficiente siempre y cuando se cumplan las condiciones necesarias para analizar la señal. "
   ]
  },
  {
   "cell_type": "markdown",
   "metadata": {},
   "source": [
    "# Referencias\n",
    "[1] Erin C. McKiernan Ana Daniela del Río Pulido. ECGAnalysis.ipynb. UNAM. url: https://gist.github.com/emckiernan/3e7e86a48256777e9e6a44ede032d938.\n"
   ]
  }
 ],
 "metadata": {
  "kernelspec": {
   "display_name": "Python 3",
   "language": "python",
   "name": "python3"
  },
  "language_info": {
   "codemirror_mode": {
    "name": "ipython",
    "version": 3
   },
   "file_extension": ".py",
   "mimetype": "text/x-python",
   "name": "python",
   "nbconvert_exporter": "python",
   "pygments_lexer": "ipython3",
   "version": "3.11.6"
  },
  "orig_nbformat": 4
 },
 "nbformat": 4,
 "nbformat_minor": 2
}
